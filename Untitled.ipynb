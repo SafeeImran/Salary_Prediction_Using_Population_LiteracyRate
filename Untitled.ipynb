{
 "cells": [
  {
   "cell_type": "code",
   "execution_count": 17,
   "id": "ea2cc9b4",
   "metadata": {},
   "outputs": [],
   "source": []
  },
  {
   "cell_type": "code",
   "execution_count": 19,
   "id": "d38e4a2a",
   "metadata": {},
   "outputs": [],
   "source": [
    "data = pd.read_csv(\"sample_data.csv\")"
   ]
  },
  {
   "cell_type": "code",
   "execution_count": 20,
   "id": "eb8b96a7",
   "metadata": {},
   "outputs": [
    {
     "data": {
      "text/html": [
       "<div>\n",
       "<style scoped>\n",
       "    .dataframe tbody tr th:only-of-type {\n",
       "        vertical-align: middle;\n",
       "    }\n",
       "\n",
       "    .dataframe tbody tr th {\n",
       "        vertical-align: top;\n",
       "    }\n",
       "\n",
       "    .dataframe thead th {\n",
       "        text-align: right;\n",
       "    }\n",
       "</style>\n",
       "<table border=\"1\" class=\"dataframe\">\n",
       "  <thead>\n",
       "    <tr style=\"text-align: right;\">\n",
       "      <th></th>\n",
       "      <th>DistrictID</th>\n",
       "      <th>Literacy Rate</th>\n",
       "      <th>Population</th>\n",
       "      <th>Average Salary</th>\n",
       "    </tr>\n",
       "  </thead>\n",
       "  <tbody>\n",
       "    <tr>\n",
       "      <th>0</th>\n",
       "      <td>1</td>\n",
       "      <td>85.2</td>\n",
       "      <td>500000</td>\n",
       "      <td>60000</td>\n",
       "    </tr>\n",
       "    <tr>\n",
       "      <th>1</th>\n",
       "      <td>2</td>\n",
       "      <td>76.8</td>\n",
       "      <td>400000</td>\n",
       "      <td>55000</td>\n",
       "    </tr>\n",
       "    <tr>\n",
       "      <th>2</th>\n",
       "      <td>3</td>\n",
       "      <td>92.5</td>\n",
       "      <td>300000</td>\n",
       "      <td>65000</td>\n",
       "    </tr>\n",
       "    <tr>\n",
       "      <th>3</th>\n",
       "      <td>4</td>\n",
       "      <td>81.3</td>\n",
       "      <td>450000</td>\n",
       "      <td>58000</td>\n",
       "    </tr>\n",
       "    <tr>\n",
       "      <th>4</th>\n",
       "      <td>5</td>\n",
       "      <td>88.7</td>\n",
       "      <td>550000</td>\n",
       "      <td>62000</td>\n",
       "    </tr>\n",
       "    <tr>\n",
       "      <th>5</th>\n",
       "      <td>6</td>\n",
       "      <td>79.6</td>\n",
       "      <td>350000</td>\n",
       "      <td>54000</td>\n",
       "    </tr>\n",
       "    <tr>\n",
       "      <th>6</th>\n",
       "      <td>7</td>\n",
       "      <td>95.1</td>\n",
       "      <td>600000</td>\n",
       "      <td>68000</td>\n",
       "    </tr>\n",
       "    <tr>\n",
       "      <th>7</th>\n",
       "      <td>8</td>\n",
       "      <td>73.2</td>\n",
       "      <td>250000</td>\n",
       "      <td>50000</td>\n",
       "    </tr>\n",
       "    <tr>\n",
       "      <th>8</th>\n",
       "      <td>9</td>\n",
       "      <td>86.9</td>\n",
       "      <td>480000</td>\n",
       "      <td>59000</td>\n",
       "    </tr>\n",
       "    <tr>\n",
       "      <th>9</th>\n",
       "      <td>10</td>\n",
       "      <td>90.4</td>\n",
       "      <td>520000</td>\n",
       "      <td>63000</td>\n",
       "    </tr>\n",
       "  </tbody>\n",
       "</table>\n",
       "</div>"
      ],
      "text/plain": [
       "   DistrictID  Literacy Rate  Population  Average Salary\n",
       "0           1           85.2      500000           60000\n",
       "1           2           76.8      400000           55000\n",
       "2           3           92.5      300000           65000\n",
       "3           4           81.3      450000           58000\n",
       "4           5           88.7      550000           62000\n",
       "5           6           79.6      350000           54000\n",
       "6           7           95.1      600000           68000\n",
       "7           8           73.2      250000           50000\n",
       "8           9           86.9      480000           59000\n",
       "9          10           90.4      520000           63000"
      ]
     },
     "execution_count": 20,
     "metadata": {},
     "output_type": "execute_result"
    }
   ],
   "source": [
    "data"
   ]
  },
  {
   "cell_type": "code",
   "execution_count": 16,
   "id": "3db00a46",
   "metadata": {},
   "outputs": [
    {
     "data": {
      "text/html": [
       "<div>\n",
       "<style scoped>\n",
       "    .dataframe tbody tr th:only-of-type {\n",
       "        vertical-align: middle;\n",
       "    }\n",
       "\n",
       "    .dataframe tbody tr th {\n",
       "        vertical-align: top;\n",
       "    }\n",
       "\n",
       "    .dataframe thead th {\n",
       "        text-align: right;\n",
       "    }\n",
       "</style>\n",
       "<table border=\"1\" class=\"dataframe\">\n",
       "  <thead>\n",
       "    <tr style=\"text-align: right;\">\n",
       "      <th></th>\n",
       "      <th>Population</th>\n",
       "      <th>Literacy Rate</th>\n",
       "      <th>Average Salary</th>\n",
       "      <th>District</th>\n",
       "    </tr>\n",
       "  </thead>\n",
       "  <tbody>\n",
       "    <tr>\n",
       "      <th>1</th>\n",
       "      <td>195012</td>\n",
       "      <td>79%</td>\n",
       "      <td>1,009,001</td>\n",
       "      <td>Birmingham</td>\n",
       "    </tr>\n",
       "  </tbody>\n",
       "</table>\n",
       "</div>"
      ],
      "text/plain": [
       "   Population Literacy Rate Average Salary    District\n",
       "1      195012           79%      1,009,001  Birmingham"
      ]
     },
     "execution_count": 16,
     "metadata": {},
     "output_type": "execute_result"
    }
   ],
   "source": []
  },
  {
   "cell_type": "code",
   "execution_count": 21,
   "id": "70d79c38",
   "metadata": {},
   "outputs": [
    {
     "name": "stdout",
     "output_type": "stream",
     "text": [
      "Predicted Average Salary: 61062.41048233354\n",
      "Cross-Validation Scores: [0.61005925 0.92426732 0.87145101 0.96901377        nan]\n",
      "Average Cross-Validation Score: nan\n"
     ]
    },
    {
     "name": "stderr",
     "output_type": "stream",
     "text": [
      "C:\\Users\\hp\\AppData\\Local\\Programs\\Python\\Python311\\Lib\\site-packages\\sklearn\\metrics\\_regression.py:918: UndefinedMetricWarning: R^2 score is not well-defined with less than two samples.\n",
      "  warnings.warn(msg, UndefinedMetricWarning)\n"
     ]
    }
   ],
   "source": [
    "# import pandas as pd\n",
    "# from sklearn.model_selection import train_test_split\n",
    "# from sklearn.linear_model import LinearRegression\n",
    "\n",
    "# # Step 1: Load and preprocess the data # Replace 'your_dataset.csv' with your dataset filename\n",
    "# import pandas as pd\n",
    "# from sklearn.model_selection import cross_val_score\n",
    "# from sklearn.linear_model import LinearRegression\n",
    "\n",
    "# # Step 1: Load and preprocess the data\n",
    "\n",
    "# # Select one district as the sample\n",
    "# sample_district = data.sample(n=1, random_state=42)\n",
    "\n",
    "# # Remove the sample district from the original data\n",
    "# original_data = data.drop(sample_district.index)\n",
    "\n",
    "# # Step 2: Prepare the data for training and evaluation\n",
    "# X_sample = sample_district[['Literacy Rate']].values  # Input feature: Literacy Rate of the sample district\n",
    "# y_sample = sample_district['Average Salary'].values  # Target variable: Average Salary of the sample district\n",
    "\n",
    "# X_original = original_data[['Literacy Rate']].values  # Input feature: Literacy Rate of the original data\n",
    "# y_original = original_data['Average Salary'].values  # Target variable: Average Salary of the original data\n",
    "\n",
    "# # Step 3: Train and evaluate the model using cross-validation\n",
    "# model = LinearRegression()\n",
    "# scores = cross_val_score(model, X_original, y_original, cv=5)  # Perform 5-fold cross-validation\n",
    "\n",
    "# # Step 4: Fit the model using the original data\n",
    "# model.fit(X_original, y_original)\n",
    "\n",
    "# # Step 5: Make predictions using the sample district\n",
    "# predicted_salary = model.predict(X_sample)\n",
    "# print('Predicted Average Salary:', predicted_salary[0])\n",
    "\n",
    "# # Step 6: Print the cross-validation scores\n",
    "# print('Cross-Validation Scores:', scores)\n",
    "# print('Average Cross-Validation Score:', scores.mean())\n"
   ]
  },
  {
   "cell_type": "code",
   "execution_count": 25,
   "id": "74b479c0",
   "metadata": {},
   "outputs": [
    {
     "name": "stdout",
     "output_type": "stream",
     "text": [
      "Mean Squared Error: 3804529.6732321666\n",
      "Predicted Average Salary: 58203.90229350353\n"
     ]
    }
   ],
   "source": [
    "import pandas as pd\n",
    "from sklearn.model_selection import train_test_split\n",
    "from sklearn.linear_model import LinearRegression\n",
    "\n",
    "\n",
    "X = data[['Literacy Rate', 'Population']].values  # Input features: Literacy Rate and Population\n",
    "y = data['Average Salary'].values  # Target variable: Average Salary\n",
    "\n",
    "# Step 2: Split the data into training and test sets\n",
    "X_train, X_test, y_train, y_test = train_test_split(X, y, test_size=0.2, random_state=42)\n",
    "\n",
    "# Step 3: Create and train the linear regression model\n",
    "model = LinearRegression()\n",
    "model.fit(X_train, y_train)\n",
    "\n",
    "# Step 4: Evaluate the model\n",
    "y_pred = model.predict(X_test)\n",
    "mse = mean_squared_error(y_test, y_pred)\n",
    "print('Mean Squared Error:', mse)\n",
    "\n",
    "# Step 5: Make predictions\n",
    "new_district_lr = 77.9  # Replace with the literacy rate of the new district you want to predict\n",
    "new_district_population = 1769230 # Replace with the population of the new district you want to predict\n",
    "predicted_salary = model.predict([[new_district_lr, new_district_population]])\n",
    "print('Predicted Average Salary:', predicted_salary[0])\n"
   ]
  },
  {
   "cell_type": "code",
   "execution_count": null,
   "id": "5a38ddf7",
   "metadata": {},
   "outputs": [],
   "source": []
  }
 ],
 "metadata": {
  "kernelspec": {
   "display_name": "Python 3 (ipykernel)",
   "language": "python",
   "name": "python3"
  },
  "language_info": {
   "codemirror_mode": {
    "name": "ipython",
    "version": 3
   },
   "file_extension": ".py",
   "mimetype": "text/x-python",
   "name": "python",
   "nbconvert_exporter": "python",
   "pygments_lexer": "ipython3",
   "version": "3.11.3"
  }
 },
 "nbformat": 4,
 "nbformat_minor": 5
}
